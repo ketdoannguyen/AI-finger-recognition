{
 "cells": [
  {
   "cell_type": "markdown",
   "id": "f1f4392f",
   "metadata": {},
   "source": [
    "### Download library mediapipe and openCV "
   ]
  },
  {
   "cell_type": "code",
   "execution_count": 1,
   "id": "553159fe",
   "metadata": {},
   "outputs": [
    {
     "ename": "SyntaxError",
     "evalue": "invalid syntax (354474619.py, line 2)",
     "output_type": "error",
     "traceback": [
      "\u001b[1;36m  Cell \u001b[1;32mIn [1], line 2\u001b[1;36m\u001b[0m\n\u001b[1;33m    pip install mediapipe\u001b[0m\n\u001b[1;37m        ^\u001b[0m\n\u001b[1;31mSyntaxError\u001b[0m\u001b[1;31m:\u001b[0m invalid syntax\n"
     ]
    }
   ],
   "source": [
    "# Download mediapipe\n",
    "pip install mediapipe\n",
    "\n",
    "# Download opencv-python\n",
    "pip install opencv-python"
   ]
  },
  {
   "cell_type": "markdown",
   "id": "4a556d21",
   "metadata": {},
   "source": [
    "### Import library"
   ]
  },
  {
   "cell_type": "code",
   "execution_count": 1,
   "id": "6cf377df",
   "metadata": {},
   "outputs": [
    {
     "name": "stdout",
     "output_type": "stream",
     "text": [
      "pygame 2.1.2 (SDL 2.0.18, Python 3.10.8)\n",
      "Hello from the pygame community. https://www.pygame.org/contribute.html\n"
     ]
    }
   ],
   "source": [
    "import cv2\n",
    "import mediapipe as mp\n",
    "import pygame\n",
    "import time\n",
    "import random\n",
    "import cvzone"
   ]
  },
  {
   "cell_type": "code",
   "execution_count": 2,
   "id": "6c129d3e",
   "metadata": {},
   "outputs": [],
   "source": [
    "class handTracker():\n",
    "    def __init__(self, mode=False, maxHands=2, detectionCon=0.5,modelComplexity=1,trackCon=0.5):\n",
    "        self.mode = mode\n",
    "        self.maxHands = maxHands\n",
    "        self.detectionCon = detectionCon\n",
    "        self.modelComplex = modelComplexity\n",
    "        self.trackCon = trackCon\n",
    "        self.mpHands = mp.solutions.hands\n",
    "        self.hands = self.mpHands.Hands(self.mode, self.maxHands,self.modelComplex,\n",
    "                                        self.detectionCon, self.trackCon)\n",
    "        self.mpDraw = mp.solutions.drawing_utils\n",
    "        self.sound = \"E:\\ThisPC\\Desktop\\Other\\DoAnCoSo4\\Music\\music{}.mp3\"\n",
    "        self.tipIds = [4, 8, 12, 16, 20]\n",
    "        \n",
    "    def handsFinder(self,image,draw=True):\n",
    "        imageRGB = cv2.cvtColor(image,cv2.COLOR_BGR2RGB)\n",
    "        self.results = self.hands.process(imageRGB)\n",
    "\n",
    "        if self.results.multi_hand_landmarks:\n",
    "            for handLms in self.results.multi_hand_landmarks:\n",
    "\n",
    "                if draw:\n",
    "                    self.mpDraw.draw_landmarks(image, handLms, self.mpHands.HAND_CONNECTIONS)\n",
    "        return image\n",
    "    \n",
    "    def positionFinder(self,image, handNo=0, draw=True):\n",
    "        lmlist = []\n",
    "        if self.results.multi_hand_landmarks:\n",
    "            Hand = self.results.multi_hand_landmarks[handNo]\n",
    "            for id, lm in enumerate(Hand.landmark):\n",
    "                h,w,c = image.shape\n",
    "                cx,cy = int(lm.x*w), int(lm.y*h)\n",
    "                lmlist.append([id,cx,cy])\n",
    "            if draw:\n",
    "                cv2.circle(image,(cx,cy), 15 , (255,0,255), cv2.FILLED)\n",
    "\n",
    "        return lmlist\n",
    "    \n",
    "    def fingersUp(self, lmList):\n",
    "        fingers=[]\n",
    "\n",
    "        # Thumb\n",
    "        if lmList[self.tipIds[0]][1] > lmList[self.tipIds[0] - 1][1]: \n",
    "            fingers.append(1)\n",
    "        else:\n",
    "            fingers.append(0)\n",
    "\n",
    "        for id in range(1,5):  #y axis\n",
    "            if lmList[self.tipIds[id]][2] < lmList[self.tipIds[id]-2][2]:\n",
    "                fingers.append(1)\n",
    "            else:\n",
    "                fingers.append(0)\n",
    "\n",
    "        return fingers\n",
    "    \n",
    "    def speak(self , num):\n",
    "        pygame.mixer.init()\n",
    "        sound = pygame.mixer.music.load(self.sound.format(num))\n",
    "        pygame.mixer.music.play()\n",
    "        "
   ]
  },
  {
   "cell_type": "code",
   "execution_count": 3,
   "id": "19755642",
   "metadata": {},
   "outputs": [],
   "source": [
    "class fingerRecognition():\n",
    "    def main(self):\n",
    "        cap = cv2.VideoCapture(0)\n",
    "        tracker = handTracker()\n",
    "        voice = []\n",
    "        while True:\n",
    "            success,image = cap.read()\n",
    "            image = tracker.handsFinder(image)\n",
    "            lmList = tracker.positionFinder(image)\n",
    "\n",
    "            if lmList != []:\n",
    "                num = tracker.fingersUp(lmList).count(1)\n",
    "                voice.append(num)\n",
    "                if len(voice) == 1:\n",
    "                    tracker.speak(num)\n",
    "                else:\n",
    "                    if voice[1] != voice[0]:\n",
    "                        tracker.speak(voice[1])\n",
    "                    del voice[0]\n",
    "\n",
    "\n",
    "            cv2.imshow(\"Fingers Counting\",image)\n",
    "            cv2.waitKey(1)\n",
    "\n",
    "            if not cv2.getWindowProperty('Fingers Counting', cv2.WND_PROP_VISIBLE):\n",
    "                break"
   ]
  },
  {
   "cell_type": "code",
   "execution_count": 4,
   "id": "5b3d9110",
   "metadata": {},
   "outputs": [],
   "source": [
    "if __name__ == \"__main__\":\n",
    "    fingerRecognition().main()"
   ]
  },
  {
   "cell_type": "code",
   "execution_count": 5,
   "id": "e180eb7f",
   "metadata": {},
   "outputs": [],
   "source": [
    "class Rock_Paper_Scissors():\n",
    "    def __init__(self, timer = 0 ,stateResult = False,startGame = False,scores = [0, 0]):\n",
    "        self.timer = timer\n",
    "        self.stateResult = stateResult\n",
    "        self.startGame = startGame\n",
    "        self.scores = scores\n",
    "        self.pathImgBG = \"E:\\ThisPC\\Desktop\\Other\\DoAnCoSo4\\Resources\\BG.png\"\n",
    "        self.imgAI = \"E:\\ThisPC\\Desktop\\Other\\DoAnCoSo4\\Resources\\{}.png\"\n",
    "        \n",
    "    def main(self):\n",
    "        cap = cv2.VideoCapture(0)\n",
    "        detector = handTracker()\n",
    "        \n",
    "        while True:\n",
    "            imgBG = cv2.imread(self.pathImgBG)\n",
    "            success, img = cap.read()\n",
    "\n",
    "            imgScaled = cv2.resize(img, (0, 0), None, 0.875, 0.875)\n",
    "            imgScaled = imgScaled[:, 80:480]\n",
    "            \n",
    "            image = detector.handsFinder(imgScaled)\n",
    "            lmList = detector.positionFinder(imgScaled)\n",
    "\n",
    "            if self.startGame:\n",
    "                if self.stateResult is False:\n",
    "                    self.timer = time.time() - initialTime\n",
    "                    cv2.putText(imgBG, str(int(self.timer)), (605, 435), cv2.FONT_HERSHEY_PLAIN, 6, (255, 0, 255), 4)\n",
    "\n",
    "                if self.timer > 3:\n",
    "                    self.startGame = False\n",
    "                    self.stateResult = True\n",
    "                    self.timer = 0\n",
    "                    checkResult = True\n",
    "\n",
    "                if checkResult:\n",
    "                    checkResult = False\n",
    "                    player = None\n",
    "                    fingers = detector.fingersUp(lmList)\n",
    "                    \n",
    "                    if fingers == [0, 0, 0, 0, 0]:\n",
    "                        player = 1\n",
    "                    if fingers == [1, 1, 1, 1, 1]:\n",
    "                        player = 2\n",
    "                    if fingers == [0, 1, 1, 0, 0]:\n",
    "                        player = 3\n",
    "                    \n",
    "                    AI = random.randint(1, 3)\n",
    "                    imgAI = cv2.imread(self.imgAI.format(AI), cv2.IMREAD_UNCHANGED)\n",
    "                    imgBG = cvzone.overlayPNG(imgBG, imgAI, (149, 310))\n",
    "\n",
    "                    # Player Wins\n",
    "                    if (player == 1 and AI == 3) or (player == 2 and AI == 1) or (player == 3 and AI == 2):\n",
    "                        self.scores[1] += 1\n",
    "\n",
    "                    # AI Wins\n",
    "                    if (player == 3 and AI == 1) or (player == 1 and AI == 2) or (player == 2 and AI == 3):\n",
    "                        self.scores[0] += 1\n",
    "\n",
    "    \n",
    "            imgBG[234:654, 795:1195] = imgScaled\n",
    "\n",
    "            if self.stateResult:\n",
    "                imgBG = cvzone.overlayPNG(imgBG, imgAI, (149, 310))\n",
    "\n",
    "            cv2.putText(imgBG, str(self.scores[0]), (410, 215), cv2.FONT_HERSHEY_PLAIN, 4, (255, 255, 255), 6)\n",
    "            cv2.putText(imgBG, str(self.scores[1]), (1112, 215), cv2.FONT_HERSHEY_PLAIN, 4, (255, 255, 255), 6)\n",
    "\n",
    "            cv2.imshow(\"Rock_Paper_Scissors\", imgBG)\n",
    "\n",
    "            key = cv2.waitKey(1)\n",
    "            if key == ord('s'):\n",
    "                self.startGame = True\n",
    "                initialTime = time.time()\n",
    "                self.stateResult = False\n",
    "                checkResult = False\n",
    "    \n",
    "            # Tắt chương trình\n",
    "            if not cv2.getWindowProperty('Rock_Paper_Scissors', cv2.WND_PROP_VISIBLE):\n",
    "                break\n",
    "        "
   ]
  },
  {
   "cell_type": "code",
   "execution_count": 6,
   "id": "20f8da2a",
   "metadata": {},
   "outputs": [],
   "source": [
    "if __name__ == \"__main__\":\n",
    "    Rock_Paper_Scissors().main()"
   ]
  },
  {
   "cell_type": "code",
   "execution_count": null,
   "id": "d20f0acf",
   "metadata": {},
   "outputs": [],
   "source": []
  }
 ],
 "metadata": {
  "kernelspec": {
   "display_name": "Python 3 (ipykernel)",
   "language": "python",
   "name": "python3"
  },
  "language_info": {
   "codemirror_mode": {
    "name": "ipython",
    "version": 3
   },
   "file_extension": ".py",
   "mimetype": "text/x-python",
   "name": "python",
   "nbconvert_exporter": "python",
   "pygments_lexer": "ipython3",
   "version": "3.10.8"
  }
 },
 "nbformat": 4,
 "nbformat_minor": 5
}
